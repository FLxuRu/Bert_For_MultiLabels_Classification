{
 "cells": [
  {
   "cell_type": "markdown",
   "metadata": {},
   "source": [
    "### 本程序当前只适合在cpu 或者 单GPU 上运行，多GPU 扩展 可以使用model =  torch.nn.DataParallel(model)进行更改"
   ]
  },
  {
   "cell_type": "code",
   "execution_count": 1,
   "metadata": {},
   "outputs": [],
   "source": [
    "import os\n",
    "import pandas as pd\n",
    "import numpy as np\n",
    "import torch\n",
    "from torch import nn\n",
    "from torch.utils.data import TensorDataset, DataLoader\n",
    "from transformers import BertTokenizer, BertPreTrainedModel, BertModel\n",
    "from transformers.optimization import AdamW, WarmupLinearSchedule\n",
    "from sklearn.metrics import f1_score\n",
    "from tqdm import tqdm_notebook as tqdm\n",
    "import logging"
   ]
  },
  {
   "cell_type": "code",
   "execution_count": 74,
   "metadata": {},
   "outputs": [],
   "source": [
    "logging.basicConfig(format='%(asctime)s - %(levelname)s - %(name)s -   %(message)s',\n",
    "                    datefmt='%m/%d/%Y %H:%M:%S',\n",
    "                    level=logging.INFO)\n",
    "logger = logging.getLogger(__name__)"
   ]
  },
  {
   "cell_type": "code",
   "execution_count": 2,
   "metadata": {},
   "outputs": [],
   "source": [
    "class MyBertForSequenceClassification(BertPreTrainedModel):\n",
    "\n",
    "    \"\"\"\n",
    "    # 有6大类，下面共有20个标签，不考虑大类，直接考虑标签，每个标签有4个类别，可以将\n",
    "    # 任务分为多任务分类问题，每一个任务都是一个4分类问题。\n",
    "    # 参见 https://github.com/brightmart/sentiment_analysis_fine_grain\n",
    "    \"\"\"\n",
    "\n",
    "\n",
    "    num_labels = 4\n",
    "    num_tasks = 20\n",
    "\n",
    "    def __init__(self, config):\n",
    "        super(MyBertForSequenceClassification, self).__init__(config)\n",
    "        self.num_labels = MyBertForSequenceClassification.num_labels\n",
    "        self.num_tasks = MyBertForSequenceClassification.num_tasks\n",
    "\n",
    "        self.bert = BertModel(config)\n",
    "        self.dropout = nn.Dropout(config.hidden_dropout_prob)\n",
    "\n",
    "        # 创建20个分类任务，每个任务共享输入： BertModel 的输出最后一层的 [CLS] 的 pooler_output\n",
    "        # 但是源程序也说了，使用 [cls] 的 pooler_output is usually *not* a good summary\n",
    "        # of the semantic content of the input, you're often better with averaging or pooling\n",
    "        # the sequence of hidden-states for the whole input sequence.\n",
    "        # module_list = []\n",
    "        # for _ in range(self.num_tasks):\n",
    "            # module_list.append(nn.Linear(config.hidden_size, self.num_labels))\n",
    "        # self.classifier = nn.ModuleList(module_list)\n",
    "        self.classifier = nn.ModuleList([nn.Linear(config.hidden_size, self.num_labels) for _ in range(self.num_tasks)])\n",
    "\n",
    "        self.init_weights()\n",
    "\n",
    "    def forward(self, input_ids, token_type_ids=None, attention_mask=None, labels=None):\n",
    "        \"\"\"forward\n",
    "\n",
    "        :param input_ids:\n",
    "        :param labels: 给定的形式是 [batch, num_tasks]\n",
    "        \"\"\"\n",
    "\n",
    "        outputs = self.bert(input_ids,\n",
    "                            attention_mask=attention_mask,\n",
    "                            token_type_ids=token_type_ids)\n",
    "\n",
    "        pooled_output = outputs[1]\n",
    "\n",
    "        pooled_output = self.dropout(pooled_output)\n",
    "\n",
    "#         logits = []\n",
    "        # for i in range(self.num_tasks):\n",
    "#             logits.append(self.classifier[i](pooled_output))\n",
    "\n",
    "        logits = [self.classifier[i](pooled_output) for i in range(self.num_tasks)]\n",
    "\n",
    "        if labels is not None:\n",
    "            loss_fct = nn.CrossEntropyLoss()\n",
    "            # 很容经忽略将该出loss变量放到device上，如果使用gpu,而忘记放，那么就会报错\n",
    "            loss = torch.tensor([0.]).to(device)\n",
    "            for i in range(self.num_tasks):\n",
    "                loss += loss_fct(logits[i], labels[:,i])\n",
    "            return loss \n",
    "        else:\n",
    "            # 用于 验证集和测试集 标签的预测, 维度是[num_tasks, batch, num_labels]\n",
    "            logits = [logit.cpu().numpy() for logit in logits]\n",
    "            return torch.tensor(logits)\n",
    "\n",
    "\n",
    "    # 可以选择 冻结 BertModel 中的参数，也可以不冻结，在 multiLabels classification 中不冻结,不调用该函数即可。这里给出了一个冻结的示范\n",
    "    def freeze_bert_encoder(self):\n",
    "        for param in self.bert.parameters():\n",
    "            param.requires_grad = False\n",
    "    \n",
    "    def unfreeze_bert_encoder(self):\n",
    "        for param in self.bert.parameters():\n",
    "            param.requires_grad = True"
   ]
  },
  {
   "cell_type": "markdown",
   "metadata": {},
   "source": [
    "### 设置 GPU 参数"
   ]
  },
  {
   "cell_type": "code",
   "execution_count": null,
   "metadata": {},
   "outputs": [],
   "source": [
    "device = torch.device(\"cuda\" if torch.cuda.is_available() else \"cpu\")\n",
    "n_gpu = torch.cuda.device_count()\n",
    "logger.info(\"device: {} n_gpu: {}\".format(device, n_gpu))"
   ]
  },
  {
   "cell_type": "markdown",
   "metadata": {},
   "source": [
    "#### 首次运行会下载预训练模型参数，默认的保存位置是 ~/.cache/torch/transformers，再次运行时，直接会从保存的路径中直接加载参数"
   ]
  },
  {
   "cell_type": "code",
   "execution_count": null,
   "metadata": {},
   "outputs": [],
   "source": [
    "tokenizer = BertTokenizer.from_pretrained('bert-base-chinese')\n",
    "model = MyBertForSequenceClassification.from_pretrained('bert-base-chinese')\n",
    "# 如果是调用保存的 参数模型，将模型参数路径放在和该模块同一路径，加入该模型的文件名为'save'，那么改为：\n",
    "#model = MyBertForSequenceClassification.from_pretrained('./save')\n",
    "# 迁移到 gpu 上\n",
    "model.to(device)"
   ]
  },
  {
   "cell_type": "markdown",
   "metadata": {},
   "source": [
    "### 模型参数"
   ]
  },
  {
   "cell_type": "code",
   "execution_count": 77,
   "metadata": {},
   "outputs": [],
   "source": [
    "args = {\n",
    "    \"max_seq_length\": 512,\n",
    "    \"batch_size\": 8,\n",
    "    \"learning_rate\": 3e-5,\n",
    "    \"num_train_epochs\": 4,\n",
    "    \"warmup_steps\": 2000\n",
    "}"
   ]
  },
  {
   "cell_type": "code",
   "execution_count": null,
   "metadata": {},
   "outputs": [],
   "source": [
    "class InputExample(object):\n",
    "    \"\"\"A single training/test example for simple sequence classification.\"\"\"\n",
    "\n",
    "    def __init__(self, guid, text, labels):\n",
    "        \"\"\"Constructs a InputExample.\n",
    "\n",
    "        Args:\n",
    "            guid: Unique id for the example.\n",
    "            text_a: string. The untokenized text of the first sequence. For single\n",
    "            sequence tasks, only this sequence must be specified.\n",
    "            text_b: (Optional) string. The untokenized text of the second sequence.\n",
    "            Only must be specified for sequence pair tasks.\n",
    "            labels: (Optional) [string]. The label of the example. This should be\n",
    "            specified for train and dev examples, but not for test examples.\n",
    "        \"\"\"\n",
    "        self.guid = guid\n",
    "        self.text = text\n",
    "        self.labels = labels\n",
    "\n",
    "\n",
    "class InputFeatures(object):\n",
    "    \"\"\"A single set of features of data.\"\"\"\n",
    "\n",
    "    def __init__(self, input_ids, input_mask, segment_ids, label_ids=None):\n",
    "        self.input_ids = input_ids\n",
    "        self.input_mask = input_mask\n",
    "        self.segment_ids = segment_ids\n",
    "        self.label_ids = label_ids"
   ]
  },
  {
   "cell_type": "code",
   "execution_count": null,
   "metadata": {},
   "outputs": [],
   "source": [
    "class MultiLabelTextProcessor():\n",
    "    \n",
    "    def __init__(self, data_dir):\n",
    "        self.data_dir = data_dir\n",
    "    \n",
    "    \n",
    "    def get_data(self, filename, labels_available=True):\n",
    "        data_df = pd.read_csv(os.path.join(self.data_dir, filename))      \n",
    "        return self._create_data(data_df, labels_available)\n",
    "\n",
    "    def _create_data(self, df,  labels_available=True):\n",
    "        \"\"\"Creates examples for the training and dev sets.\"\"\"\n",
    "        examples = []\n",
    "        for (i, row) in enumerate(df.values):\n",
    "            guid = row[0]\n",
    "            text = row[1]\n",
    "            if labels_available:\n",
    "                labels = row[2:]\n",
    "            else:\n",
    "                labels = []\n",
    "            examples.append(\n",
    "                InputExample(guid=guid, text=text, labels=labels))\n",
    "        return examples"
   ]
  },
  {
   "cell_type": "code",
   "execution_count": 8,
   "metadata": {},
   "outputs": [],
   "source": [
    "labels_list = ['location_traffic_convenience',\n",
    "       'location_distance_from_business_district', 'location_easy_to_find',\n",
    "       'service_wait_time', 'service_waiters_attitude',\n",
    "       'service_parking_convenience', 'service_serving_speed', 'price_level',\n",
    "       'price_cost_effective', 'price_discount', 'environment_decoration',\n",
    "       'environment_noise', 'environment_space', 'environment_cleaness',\n",
    "       'dish_portion', 'dish_taste', 'dish_look', 'dish_recommendation',\n",
    "       'others_overall_experience', 'others_willing_to_consume_again']"
   ]
  },
  {
   "cell_type": "code",
   "execution_count": 9,
   "metadata": {},
   "outputs": [
    {
     "data": {
      "text/plain": [
       "20"
      ]
     },
     "execution_count": 9,
     "metadata": {},
     "output_type": "execute_result"
    }
   ],
   "source": [
    "num_tasks = len(labels_list)\n",
    "num_tasks"
   ]
  },
  {
   "cell_type": "code",
   "execution_count": null,
   "metadata": {},
   "outputs": [],
   "source": [
    "processor = MultiLabelTextProcessor('./my_data')\n",
    "train_data = processor.get_data('sentiment_analysis_trainingset.csv')\n",
    "eval_data = processor.get_data('sentiment_analysis_validationset.csv')\n",
    "test_data = processor.get_data('sentiment_analysis_testset.csv', labels_available=False)"
   ]
  },
  {
   "cell_type": "code",
   "execution_count": null,
   "metadata": {},
   "outputs": [],
   "source": [
    "def convert_examples_to_features(examples, max_seq_length, tokenizer, labels_available=True):\n",
    "    \"\"\"Loads a data file into a list of `InputBatch`s.\"\"\"\n",
    "\n",
    "    features = []\n",
    "    for (ex_index, example) in enumerate(examples):\n",
    "        tokens = tokenizer.tokenize(example.text)\n",
    "\n",
    "\n",
    "        # Account for [CLS] and [SEP] with \"- 2\"\n",
    "        if len(tokens) > max_seq_length - 2:\n",
    "            tokens = tokens[:(max_seq_length - 2)]\n",
    "\n",
    "        # The convention in BERT is:\n",
    "        # (a) For sequence pairs:\n",
    "        #  tokens:   [CLS] is this jack ##son ##ville ? [SEP] no it is not . [SEP]\n",
    "        #  type_ids: 0   0  0    0    0     0       0 0    1  1  1  1   1 1\n",
    "        # (b) For single sequences:\n",
    "        #  tokens:   [CLS] the dog is hairy . [SEP]\n",
    "        #  type_ids: 0   0   0   0  0     0 0\n",
    "        #\n",
    "        # Where \"type_ids\" are used to indicate whether this is the first\n",
    "        # sequence or the second sequence. The embedding vectors for `type=0` and\n",
    "        # `type=1` were learned during pre-training and are added to the wordpiece\n",
    "        # embedding vector (and position vector). This is not *strictly* necessary\n",
    "        # since the [SEP] token unambigiously separates the sequences, but it makes\n",
    "        # it easier for the model to learn the concept of sequences.\n",
    "        #\n",
    "        # For classification tasks, the first vector (corresponding to [CLS]) is\n",
    "        # used as as the \"sentence vector\". Note that this only makes sense because\n",
    "        # the entire model is fine-tuned.\n",
    "        tokens = [\"[CLS]\"] + tokens + [\"[SEP]\"]\n",
    "        segment_ids = [0] * len(tokens)\n",
    "\n",
    "        input_ids = tokenizer.convert_tokens_to_ids(tokens)\n",
    "\n",
    "        # The mask has 1 for real tokens and 0 for padding tokens. Only real\n",
    "        # tokens are attended to.\n",
    "        input_mask = [1] * len(input_ids)\n",
    "\n",
    "        # Zero-pad up to the sequence length.\n",
    "        padding = [0] * (max_seq_length - len(input_ids))\n",
    "        input_ids += padding\n",
    "        input_mask += padding\n",
    "        segment_ids += padding\n",
    "\n",
    "        assert len(input_ids) == max_seq_length\n",
    "        assert len(input_mask) == max_seq_length\n",
    "        assert len(segment_ids) == max_seq_length\n",
    "        \n",
    "        if labels_available:\n",
    "            labels_ids = []\n",
    "            for label in example.labels:\n",
    "                labels_ids.append(label)    \n",
    "\n",
    "            features.append(\n",
    "                    InputFeatures(input_ids=input_ids,\n",
    "                                  input_mask=input_mask,\n",
    "                                  segment_ids=segment_ids,\n",
    "                                  label_ids=labels_ids))\n",
    "        else:\n",
    "            features.append(\n",
    "                    InputFeatures(input_ids=input_ids,\n",
    "                                  input_mask=input_mask,\n",
    "                                  segment_ids=segment_ids,))\n",
    "    return features"
   ]
  },
  {
   "cell_type": "code",
   "execution_count": null,
   "metadata": {},
   "outputs": [],
   "source": [
    "def get_dataloader(data, batch_size, labels_available=True):\n",
    "    features = convert_examples_to_features(data, args['max_seq_length'], tokenizer, labels_available)\n",
    "    \n",
    "    all_input_ids = torch.tensor([f.input_ids for f in features], dtype=torch.long)\n",
    "    all_input_mask = torch.tensor([f.input_mask for f in features], dtype=torch.long)\n",
    "    all_segment_ids = torch.tensor([f.segment_ids for f in features], dtype=torch.long)\n",
    "    \n",
    "    if labels_available:\n",
    "        all_label_ids = torch.tensor([f.label_ids for f in features], dtype=torch.long)\n",
    "        dataset = TensorDataset(all_input_ids, all_input_mask, all_segment_ids, all_label_ids)  \n",
    "    else:\n",
    "        dataset = TensorDataset(all_input_ids, all_input_mask, all_segment_ids)\n",
    "        \n",
    "    dataloader = DataLoader(dataset, shuffle=True, batch_size=batch_size)\n",
    "    return dataloader"
   ]
  },
  {
   "cell_type": "code",
   "execution_count": null,
   "metadata": {},
   "outputs": [],
   "source": [
    "train_dataloader = get_dataloader(train_data, args['batch_size'])\n",
    "eval_dataloader = get_dataloader(eval_data, args['batch_size'])\n",
    "test_dataloader = get_dataloader(test_data, args['batch_size'], labels_available=False)"
   ]
  },
  {
   "cell_type": "code",
   "execution_count": null,
   "metadata": {},
   "outputs": [],
   "source": [
    "def get_optimizer(model, lr):       \n",
    "\n",
    "    # Prepare optimiser and schedule \n",
    "    no_decay = ['bias', 'LayerNorm.weight']\n",
    "\n",
    "    optimizer_grouped_parameters = [\n",
    "            {'params': [p for n, p in model.named_parameters() if not any(nd in n for nd in no_decay)], 'weight_decay': 0.01},\n",
    "            {'params': [p for n, p in model.named_parameters() if any(nd in n for nd in no_decay)], 'weight_decay': 0.0}\n",
    "        ]\n",
    "\n",
    "    return AdamW(optimizer_grouped_parameters, lr=lr, eps=1e-8)"
   ]
  },
  {
   "cell_type": "code",
   "execution_count": null,
   "metadata": {},
   "outputs": [],
   "source": [
    "optimizer = get_optimizer(model, lr=args['learning_rate'])"
   ]
  },
  {
   "cell_type": "code",
   "execution_count": null,
   "metadata": {},
   "outputs": [],
   "source": [
    "num_epochs = args['num_train_epochs']\n",
    "trian_total_steps = int(len(train_data) / args['batch_size'] * num_epochs)\n",
    "trian_total_steps"
   ]
  },
  {
   "cell_type": "code",
   "execution_count": null,
   "metadata": {},
   "outputs": [],
   "source": [
    "# 根据实际情况可以更改\n",
    "warmup_steps = args['warmup_steps'] \n",
    "scheduler = WarmupLinearSchedule(optimizer, warmup_steps=warmup_steps, t_total=trian_total_steps)"
   ]
  },
  {
   "cell_type": "code",
   "execution_count": null,
   "metadata": {},
   "outputs": [],
   "source": [
    "def train(num_epocs):\n",
    "\n",
    "    model.train()\n",
    "    for i_ in tqdm(range(int(num_epocs)), desc=\"Epoch\"):\n",
    "\n",
    "        train_loss = 0\n",
    "        num_train, train_steps = 0, 0\n",
    "        for step, batch in enumerate(tqdm(train_dataloader, desc=\"Iteration\")):\n",
    "            # 将运算数据迁移到 gpu 上\n",
    "            batch = tuple(t.to(device) for t in batch)\n",
    "            input_ids, input_mask, segment_ids, label_ids = batch\n",
    "            loss = model(input_ids, segment_ids, input_mask, label_ids)\n",
    "\n",
    "            loss.backward()\n",
    "\n",
    "            train_loss += loss.item()\n",
    "            num_train += input_ids.size(0)\n",
    "            train_steps += 1\n",
    "            \n",
    "            optimizer.step()\n",
    "            scheduler.step()\n",
    "            optimizer.zero_grad()\n",
    "\n",
    "        logger.info('Train loss after epoc {}'.format(train_loss / train_steps / args['batch_size']))\n",
    "        logger.info('Eval after epoc {}'.format(i_+1))\n",
    "        \n",
    "        # 因为运行时间过长，每一个 epoch 保存一次\n",
    "        if not os.path.exists('./directory/to/save/'):\n",
    "            os.makedirs('./directory/to/save/')\n",
    "        model.save_pretrained('./directory/to/save/')\n",
    "        eval()"
   ]
  },
  {
   "cell_type": "code",
   "execution_count": 51,
   "metadata": {},
   "outputs": [],
   "source": [
    "def eval():\n",
    "    \n",
    "    all_logits = None\n",
    "    all_labels = None\n",
    "    \n",
    "    model.eval()\n",
    "    \n",
    "    eval_loss, eval_accuracy = 0, 0\n",
    "    eval_steps, num_eval = 0, 0\n",
    "    for input_ids, input_mask, segment_ids, label_ids in eval_dataloader:\n",
    "        # 将运算数据迁移到 gpu 上\n",
    "        input_ids = input_ids.to(device)\n",
    "        input_mask = input_mask.to(device)\n",
    "        segment_ids = segment_ids.to(device)\n",
    "        label_ids = label_ids.to(device)\n",
    "\n",
    "        with torch.no_grad():\n",
    "            tmp_eval_loss = model(input_ids, segment_ids, input_mask, label_ids)\n",
    "            logits = model(input_ids, segment_ids, input_mask)\n",
    "\n",
    "            \n",
    "            \n",
    "        # 将各个batch 的 logits 和 labels 拼接在一起，用于 f1_score 计算\n",
    "        # logits 维度 [num_tasks, batch, 4], label_ids ： [ batch, num_tasks]\n",
    "        # all_logits :[num_tasks, num_eval, 4], all_label_ids : [num_eval, num_tasks]\n",
    "        \n",
    "        if all_logits is None:\n",
    "            all_logits = logits.detach().cpu()\n",
    "        else:\n",
    "            all_logits = torch.cat((all_logits, logits.detach().cpu()), 1)\n",
    "            \n",
    "        if all_labels is None:\n",
    "            all_labels = label_ids.detach().cpu()\n",
    "        else:    \n",
    "            all_labels = torch.cat((all_labels, label_ids.detach().cpu()), 0)\n",
    "        \n",
    "        # 可以在这里添加一个 assert 判断！\n",
    "        # 如果是多GPU，并行划分数据到gpu的情况下, 每块gpu都会返回一个loss，则需要平均，本程序只是单GPU,所以不需要mean()\n",
    "        #eval_loss += tmp_eval_loss.mean().item()\n",
    "        eval_loss += tmp_eval_loss.item()\n",
    "\n",
    "        num_eval += input_ids.size(0)\n",
    "        eval_steps += 1\n",
    "\n",
    "    eval_loss = eval_loss / eval_steps\n",
    "    \n",
    "    # Compute f1_scores\n",
    "    f1_scores_list = []\n",
    "    # pred_labels : [num_tasks, num_eval]\n",
    "    pred_labels = torch.argmax(all_logits, dim=2)\n",
    "    for i in range(num_tasks):\n",
    "        f1_scores_list.append(f1_score(all_labels[:,i].numpy(), pred_labels[i].numpy(), average='macro'))\n",
    "        \n",
    "    f1_scores  = np.mean(f1_scores_list)\n",
    "    \n",
    "    logger.info(' Eval loss after epoc {}'.format(eval_loss / args['batch_size']))\n",
    "    logger.info('f1_score after epoc {}'.format(f1_scores))"
   ]
  },
  {
   "cell_type": "code",
   "execution_count": null,
   "metadata": {},
   "outputs": [],
   "source": [
    "train(args['num_train_epochs'])"
   ]
  },
  {
   "cell_type": "markdown",
   "metadata": {},
   "source": [
    "### 保存模型"
   ]
  },
  {
   "cell_type": "code",
   "execution_count": null,
   "metadata": {},
   "outputs": [],
   "source": [
    "# Save a trained model\n",
    "model.save_pretrained('./directory/to/save/')  \n",
    "\n",
    "# re-load\n",
    "#model = MyBertForSequenceClassification.from_pretrained('./directory/to/save/') \n",
    "# 迁移到 gpu 上\n",
    "#model.to(device)"
   ]
  },
  {
   "cell_type": "code",
   "execution_count": null,
   "metadata": {},
   "outputs": [],
   "source": [
    "def predict():\n",
    "    \n",
    "    # Hold input data for returning it \n",
    "    input_data = [{ 'id': input_test.guid, 'content': input_test.text } for input_test in test_data]\n",
    "    \n",
    "    all_logits = None\n",
    "    model.eval()\n",
    "    for step, batch in enumerate(tqdm(test_dataloader, desc=\"Prediction Iteration\")):\n",
    "        input_ids, input_mask, segment_ids = batch\n",
    "        # 将运算数据迁移到 gpu 上\n",
    "        input_ids = input_ids.to(device)\n",
    "        input_mask = input_mask.to(device)\n",
    "        segment_ids = segment_ids.to(device)\n",
    "\n",
    "        with torch.no_grad():\n",
    "            logits = model(input_ids, segment_ids, input_mask)\n",
    "\n",
    "        if all_logits is None:\n",
    "            all_logits = logits.detach().cpu()\n",
    "        else:\n",
    "            all_logits = torch.cat((all_logits, logits.detach().cpu()), 1)\n",
    "        \n",
    "    # pred_labels : [num_tasks, num_eval]\n",
    "    pred_labels = torch.argmax(all_logits, dim=2) \n",
    "    \n",
    "    # 因为预处理将标签 +2，所以这里再减去2\n",
    "    pred_labels -= 2\n",
    "    return pd.merge(pd.DataFrame(input_data), pd.DataFrame(pred_labels.T.numpy(), columns=labels_list), left_index=True, right_index=True)"
   ]
  },
  {
   "cell_type": "code",
   "execution_count": null,
   "metadata": {},
   "outputs": [],
   "source": [
    "results = predict()\n",
    "path = './output'\n",
    "if not os.path.exists(path):\n",
    "    os.mkdir(path)\n",
    "\n",
    "results.to_csv(path, index=False)"
   ]
  },
  {
   "cell_type": "code",
   "execution_count": null,
   "metadata": {},
   "outputs": [],
   "source": []
  }
 ],
 "metadata": {
  "kernelspec": {
   "display_name": "Python 3",
   "language": "python",
   "name": "python3"
  },
  "language_info": {
   "codemirror_mode": {
    "name": "ipython",
    "version": 3
   },
   "file_extension": ".py",
   "mimetype": "text/x-python",
   "name": "python",
   "nbconvert_exporter": "python",
   "pygments_lexer": "ipython3",
   "version": "3.7.3"
  }
 },
 "nbformat": 4,
 "nbformat_minor": 2
}
